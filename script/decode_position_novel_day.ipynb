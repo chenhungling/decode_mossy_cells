{
 "cells": [
  {
   "cell_type": "code",
   "execution_count": 10,
   "id": "6aea9559",
   "metadata": {},
   "outputs": [],
   "source": [
    "import os\n",
    "from glob import glob\n",
    "import numpy as np\n",
    "import h5py\n",
    "import pandas as pd\n",
    "from scipy import stats\n",
    "import matplotlib.pyplot as plt\n",
    "import seaborn as sns\n",
    "from sklearn.model_selection import KFold\n",
    "import pingouin as pg\n",
    "plt.style.use('figure.mplstyle')\n",
    "\n",
    "from function.data2p import get_data_bis\n",
    "import function.tuning_function as tf\n",
    "import function.utils as ut\n",
    "import decoder.manifold as mf\n",
    "from decoder.metrics import get_error"
   ]
  },
  {
   "cell_type": "code",
   "execution_count": 11,
   "id": "cdb229c9",
   "metadata": {},
   "outputs": [],
   "source": [
    "# %% Setup\n",
    "folder = r'D:\\LW_Alldata\\SI_Transient'\n",
    "alldata = {'Enriched': glob(os.path.join(folder,'Enriched*.hdf5')),\n",
    "           'Dissimilar': glob(os.path.join(folder,'Distinct*.hdf5')),\n",
    "           'Similar': [os.path.join(folder,'Similar5_937_invivo.hdf5'),\n",
    "                       os.path.join(folder,'Similar6_939_invivo.hdf5'),\n",
    "                       os.path.join(folder,'Similar7_948_invivo.hdf5'),\n",
    "                       os.path.join(folder,'Similar8_5454_invivo.hdf5')]}\n",
    "exps = ['Enriched','Dissimilar','Similar']"
   ]
  },
  {
   "cell_type": "code",
   "execution_count": null,
   "id": "dc116217",
   "metadata": {},
   "outputs": [],
   "source": [
    "def collect_data(tuning, ctx=np.array([0,1,0,1]), ybin=80):\n",
    "    \n",
    "    y_edges = np.linspace(0,4,ybin+1)  # Unify position data to (0,4)\n",
    "    y_centers = (y_edges[:-1] + y_edges[1:])/2\n",
    "    Fdata, ydata  = [], []\n",
    "    for c in range(len(set(ctx))):\n",
    "        F = np.concatenate([tuning[k] for k in np.where(ctx==c)[0]], axis=2)  # (ncell, ybin, ntrial)\n",
    "        Fdata.append(np.transpose(F, (2,1,0)))  # (ntrial, ybin, ncell)\n",
    "        ydata.append(np.tile(y_centers, (F.shape[2],1)))  # (ntrial, ybin)\n",
    "        \n",
    "    return Fdata, ydata\n",
    "\n",
    "def prepare_data(Fs, ys, trial=None, average=False):\n",
    "    '''\n",
    "    Parameters\n",
    "    ----------\n",
    "    Fs : numpy array (ntrial, ybin, ncell)\n",
    "        Spatial tuning of a given mouse with all trials stacked along axis=0\n",
    "    ys : numpy array (ntrial, ybin)\n",
    "        Position vector of each trial\n",
    "    trial : numpy 1d array\n",
    "        Indices of selected trials\n",
    "    average : bool\n",
    "        Whether to average over trials\n",
    "\n",
    "    Returns\n",
    "    -------\n",
    "    X : array (n_samples, ncell)\n",
    "    y : array (n_samples,)\n",
    "        where n_samples = ybin if trial-averaged, otherwise n_samples = ntrial*ybin\n",
    "    '''\n",
    "    if trial is None:  # Take all trials\n",
    "        trial = np.arange(Fs.shape[0])\n",
    "    elif isinstance(trial, int):\n",
    "        trial = [trial]\n",
    "    if average:\n",
    "        X = np.mean(Fs[trial,:,:], axis=0)  # (ybin, ncell)\n",
    "        y = np.mean(ys[trial,:], axis=0)  # (ybin,)\n",
    "    else:\n",
    "        X = np.vstack([Fs[r,:,:] for r in trial])\n",
    "        y = np.hstack([ys[r,:] for r in trial])\n",
    "    ## Discard points where all cells are silent\n",
    "    silent = (X.sum(axis=1) == 0)\n",
    "    if np.any(silent):\n",
    "        X = X[~silent,:]\n",
    "        y = y[~silent]\n",
    "        \n",
    "    return X, y\n",
    "\n",
    "def decode_novel_cv(Fdata, ydata, nfold=10, shuffle=0, y2cm=100, align=True, **kwargs):\n",
    "    \n",
    "    X_train_fam, y_train_fam = prepare_data(Fdata[0], ydata[0], trial=None, average=True)  # Familiar context (train)    \n",
    "    \n",
    "    ntrial, ybin, ncell = Fdata[1].shape  # Novel context\n",
    "    if shuffle:  # Non zero integer\n",
    "        cv = KFold(n_splits=nfold, shuffle=True, random_state=shuffle)\n",
    "    else:\n",
    "        cv = KFold(n_splits=nfold, shuffle=False)\n",
    "    error = []\n",
    "    \n",
    "    for train_set, test_set in cv.split(np.zeros((ntrial,1))): \n",
    "        \n",
    "        X_train_nov, y_train_nov = prepare_data(Fdata[1], ydata[1], trial=train_set, average=True)  # Novel context (train)\n",
    "        X_test_nov, y_test_nov = prepare_data(Fdata[1], ydata[1], trial=test_set, average=False)  # Novel context (test)\n",
    "    \n",
    "        spd = mf.SpatialNovelDecoder2(**kwargs)\n",
    "        spd.fit([X_train_fam, X_train_nov], y_train_fam)\n",
    "        y_pred = spd.predict(X_test_nov, align=align)\n",
    "    \n",
    "        ind = np.isfinite(y_pred)\n",
    "        if not np.all(ind):\n",
    "            print('Warning: neglect %d NaN in test data (%.4g%% samples)' % (np.sum(~ind), 100*np.mean(~ind)))\n",
    "        error.append(y2cm*get_error(y_test_nov[ind], y_pred[ind], kind='median'))\n",
    "    \n",
    "    return np.array(error)\n",
    "\n",
    "def decode_novel_mouse(datapath, day=[1,2,3], min_rate=1/60, ybin=80, ysigma=1, nfold=10, shuffle=0, **kwargs):\n",
    "    \n",
    "    data, cells, days, ctx, _ = get_data_bis(datapath, day=day, min_rate=min_rate)\n",
    "    with h5py.File(datapath, 'r') as f:\n",
    "        yrange = f['params/yrange'][()]  # Dataset dependent\n",
    "        \n",
    "    tuning = tf.compute_tuning(data, yrange=yrange, ybin=ybin, ysigma=ysigma,\n",
    "                               spike=False, transient=True)\n",
    "    nday = len(day)\n",
    "    errors = np.zeros(nday)\n",
    "    \n",
    "    for d in range(nday):\n",
    "        sess = np.where(days==(d+1))[0]\n",
    "        Fdata, ydata = collect_data([tuning[s] for s in sess], ctx=ctx[sess], ybin=ybin)\n",
    "        error = decode_novel_cv(Fdata, ydata, nfold=nfold, shuffle=shuffle, y2cm=100, align=True, **kwargs)\n",
    "        errors[d] = np.mean(error)\n",
    "        \n",
    "    return errors"
   ]
  },
  {
   "cell_type": "code",
   "execution_count": null,
   "id": "a4c13ae9",
   "metadata": {},
   "outputs": [],
   "source": [
    "datapaths = alldata['Enriched'] + alldata['Dissimilar']\n",
    "day = [1,2,3]\n",
    "min_rate = 0\n",
    "ybin = 80\n",
    "ysigma = 2\n",
    "nfold = 10\n",
    "shuffle = 2\n",
    "params = dict(method='knr', k=10, knr_metric='euclidean', # 'knr'|'gpr'|'svr'|'pvcorr'|'bayesian'\n",
    "              reduction='umap', dim=6,  # 'none'|'pca'|'umap'   \n",
    "              n_neighbors=8, min_dist=0.6, metric='cosine', random_state=0)  # UMAP parameters\n",
    "\n",
    "df_list = []\n",
    "nday = len(day)\n",
    "errors = np.zeros((len(datapaths),nday))\n",
    "    \n",
    "for m, datapath in enumerate(datapaths):\n",
    "\n",
    "    print('Calculating for mouse %d' % (m+1))\n",
    "    errors[m] = decode_novel_mouse(\n",
    "        datapath, day=day, min_rate=min_rate, ybin=ybin, ysigma=ysigma, nfold=nfold, shuffle=shuffle, **params)\n",
    "        \n",
    "df = pd.DataFrame(errors, columns=day)\n",
    "\n",
    "with pd.ExcelWriter('Decode position align day.xlsx') as writer:\n",
    "    df.to_excel(writer, sheet_name='Align', index=False)"
   ]
  },
  {
   "cell_type": "markdown",
   "id": "36235511",
   "metadata": {},
   "source": [
    "## Plot results"
   ]
  },
  {
   "cell_type": "code",
   "execution_count": 12,
   "id": "7f114783",
   "metadata": {},
   "outputs": [
    {
     "name": "stdout",
     "output_type": "stream",
     "text": [
      "    Mouse Day   Error\n",
      "0       0   1  71.675\n",
      "1       1   1  76.800\n",
      "2       2   1  62.825\n",
      "3       3   1  84.650\n",
      "4       4   1  81.825\n",
      "5       5   1  74.625\n",
      "6       6   1  77.300\n",
      "7       0   2  43.575\n",
      "8       1   2  73.175\n",
      "9       2   2  36.250\n",
      "10      3   2  85.600\n",
      "11      4   2  67.525\n",
      "12      5   2  81.300\n",
      "13      6   2  97.350\n",
      "14      0   3  47.050\n",
      "15      1   3  84.225\n",
      "16      2   3  85.500\n",
      "17      3   3  75.275\n",
      "18      4   3  56.750\n",
      "19      5   3  55.025\n",
      "20      6   3  63.075\n"
     ]
    }
   ],
   "source": [
    "excelfile = r'C:\\Users\\Hung-Ling\\Desktop\\MC_Results\\New Results\\Decode position align day.xlsx'\n",
    "day = [1,2,3]\n",
    "\n",
    "df = pd.read_excel(excelfile, sheet_name='Align')  # (Mouse,Day)\n",
    "df['Mouse'] = df.index\n",
    "df_long = pd.melt(df, id_vars='Mouse', value_vars=day, var_name='Day', value_name='Error')\n",
    "print(df_long)"
   ]
  },
  {
   "cell_type": "code",
   "execution_count": 13,
   "id": "c2e3165b",
   "metadata": {},
   "outputs": [
    {
     "name": "stdout",
     "output_type": "stream",
     "text": [
      "\n",
      "=============\n",
      "ANOVA SUMMARY\n",
      "=============\n",
      "\n",
      "Source      ddof1    ddof2       F    p-unc      ng2     eps\n",
      "--------  -------  -------  ------  -------  -------  ------\n",
      "Day             2       12  0.6417   0.5435  0.06054  0.7058\n",
      "\n"
     ]
    }
   ],
   "source": [
    "res = pg.rm_anova(data=df_long, dv='Error', within='Day', subject='Mouse')\n",
    "pg.print_table(res, floatfmt='.4g')"
   ]
  },
  {
   "cell_type": "code",
   "execution_count": 14,
   "id": "29d0474d",
   "metadata": {},
   "outputs": [
    {
     "name": "stdout",
     "output_type": "stream",
     "text": [
      "\n",
      "==============\n",
      "POST HOC TESTS\n",
      "==============\n",
      "\n",
      "Contrast      A    B  Paired    Parametric         T    dof  alternative      p-unc    p-corr  p-adjust      BF10    hedges\n",
      "----------  ---  ---  --------  ------------  ------  -----  -------------  -------  --------  ----------  ------  --------\n",
      "Day           1    2  True      True          0.9611      6  two-sided       0.3736    1       bonf         0.508    0.3638\n",
      "Day           1    3  True      True          1.328       6  two-sided       0.2323    0.6969  bonf         0.677    0.7113\n",
      "Day           2    3  True      True          0.244       6  two-sided       0.8154    1       bonf         0.362    0.1257\n",
      "\n"
     ]
    }
   ],
   "source": [
    "post_hoc = pg.pairwise_tests(data=df_long, dv='Error', within='Day', subject='Mouse', parametric=True, padjust='bonf')\n",
    "pg.print_table(post_hoc, floatfmt='.4g')"
   ]
  },
  {
   "cell_type": "code",
   "execution_count": 15,
   "id": "389d4763",
   "metadata": {},
   "outputs": [
    {
     "name": "stdout",
     "output_type": "stream",
     "text": [
      "\n",
      "==============\n",
      "POST HOC TESTS\n",
      "==============\n",
      "\n",
      "  A    B    mean(A)    mean(B)    diff     se       T    p-tukey    hedges\n",
      "---  ---  ---------  ---------  ------  -----  ------  ---------  --------\n",
      "  1    2      75.67      69.25   6.418  8.584  0.7477     0.7388    0.3638\n",
      "  1    3      75.67      66.7    8.971  8.584  1.045      0.559     0.7113\n",
      "  2    3      69.25      66.7    2.554  8.584  0.2975     0.9525    0.1257\n",
      "\n"
     ]
    }
   ],
   "source": [
    "post_hoc = pg.pairwise_tukey(data=df_long, dv='Error', between='Day')\n",
    "pg.print_table(post_hoc, floatfmt='.4g')"
   ]
  },
  {
   "cell_type": "code",
   "execution_count": 16,
   "id": "6850d23c",
   "metadata": {},
   "outputs": [
    {
     "data": {
      "image/png": "[encoded data removed]",
      "text/plain": [
       "<Figure size 300x400 with 1 Axes>"
      ]
     },
     "metadata": {},
     "output_type": "display_data"
    }
   ],
   "source": [
    "# %% Plot\n",
    "A = df_long\n",
    "color = 'tab:purple'\n",
    "nday = len(set(A['Day']))\n",
    "\n",
    "fig, ax = plt.subplots(figsize=(3,4))\n",
    "n_mice = len(set(A['Mouse']))\n",
    "for m in range(n_mice):\n",
    "    a = A[A['Mouse']==m]['Error']\n",
    "    ax.plot(np.arange(1,nday+1), a, c=color, alpha=0.6, lw=1.2)\n",
    "sns.lineplot(df_long, x='Day', y='Error', color=color, lw=2.4,\n",
    "             errorbar='se', err_style='band', err_kws=dict(lw=0))\n",
    "ax.set(xlim=[0.75,3.25], ylim=[0,140], ylabel='Decoding error (cm)')\n",
    "fig.tight_layout()\n",
    "# fig.savefig('Decode position align day.svg')"
   ]
  }
 ],
 "metadata": {
  "kernelspec": {
   "display_name": "Python 3 (ipykernel)",
   "language": "python",
   "name": "python3"
  },
  "language_info": {
   "codemirror_mode": {
    "name": "ipython",
    "version": 3
   },
   "file_extension": ".py",
   "mimetype": "text/x-python",
   "name": "python",
   "nbconvert_exporter": "python",
   "pygments_lexer": "ipython3",
   "version": "3.8.8"
  }
 },
 "nbformat": 4,
 "nbformat_minor": 5
}
