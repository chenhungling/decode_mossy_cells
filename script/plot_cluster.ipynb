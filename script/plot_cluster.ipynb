{
 "cells": [
  {
   "cell_type": "markdown",
   "id": "18ccd0ef",
   "metadata": {},
   "source": [
    "Read clustering results (xlsx files, output from `mc_analysis_cluster.py`). Plot clustering accuracy."
   ]
  },
  {
   "cell_type": "code",
   "execution_count": 1,
   "id": "57ab4766",
   "metadata": {},
   "outputs": [],
   "source": [
    "import os\n",
    "import numpy as np\n",
    "import pandas as pd\n",
    "import matplotlib.pyplot as plt\n",
    "import seaborn as sns\n",
    "from scipy import stats\n",
    "from statannotations.Annotator import Annotator\n",
    "plt.style.use('figure.mplstyle')"
   ]
  },
  {
   "cell_type": "code",
   "execution_count": 7,
   "id": "29a2008d",
   "metadata": {},
   "outputs": [
    {
     "name": "stdout",
     "output_type": "stream",
     "text": [
      "    Fraction     Context\n",
      "0   0.866667    Enriched\n",
      "1   0.516667    Enriched\n",
      "2   1.000000    Enriched\n",
      "3   0.975000    Enriched\n",
      "4   0.833333  Dissimilar\n",
      "5   0.883333  Dissimilar\n",
      "6   0.983333  Dissimilar\n",
      "7   0.600000     Similar\n",
      "8   0.550000     Similar\n",
      "9   0.675000     Similar\n",
      "10  0.525000     Similar\n",
      "11  0.631579     Similar\n",
      "12  0.575000     Similar\n",
      "13  0.589744     Similar\n",
      "14  0.550000     Similar\n"
     ]
    }
   ],
   "source": [
    "excelfile = r'C:\\Users\\Hung-Ling\\Desktop\\MC_Results\\New Results\\Cluster ybin20 ysigma0.xlsx'\n",
    "exps = ['Enriched','Dissimilar','Similar']\n",
    "colors = ['tab:red','tab:blue','tab:green']\n",
    "\n",
    "A = pd.read_excel(excelfile, sheet_name='Cluster')\n",
    "print(A)"
   ]
  },
  {
   "cell_type": "code",
   "execution_count": 8,
   "id": "7ee4eb1d",
   "metadata": {},
   "outputs": [
    {
     "name": "stdout",
     "output_type": "stream",
     "text": [
      "---------------- Enriched ----------------\n",
      "Shapiro test p=0.1494, likely normal distribution\n",
      "t-test for fraction not greater than 0.5: p=0.0278\n",
      "---------------- Dissimilar ----------------\n",
      "Shapiro test p=0.6369, likely normal distribution\n",
      "t-test for fraction not greater than 0.5: p=0.0060\n",
      "---------------- Similar ----------------\n",
      "Shapiro test p=0.7785, likely normal distribution\n",
      "t-test for fraction not greater than 0.5: p=0.0007\n"
     ]
    }
   ],
   "source": [
    "for p, exp in enumerate(exps):    \n",
    "    print('-'*16 + f' {exp} ' + '-'*16)\n",
    "    data = A['Fraction'][A['Context']==exp]\n",
    "    pval = stats.shapiro(data)[1]\n",
    "    if pval >= 0.05:\n",
    "        print(f'Shapiro test p={pval:.4f}, likely normal distribution')\n",
    "    else:\n",
    "        print(f'Shapiro test p={pval:.4f}, unlikely normal distribution')\n",
    "    pval = stats.ttest_1samp(data, 0.5, alternative='greater')[1]\n",
    "    print(f't-test for fraction not greater than 0.5: p={pval:.4f}')"
   ]
  },
  {
   "cell_type": "code",
   "execution_count": 11,
   "id": "1dd8f5a4",
   "metadata": {},
   "outputs": [
    {
     "name": "stdout",
     "output_type": "stream",
     "text": [
      "t-test for accuracy not greater than 0.5: p=0.0278\n",
      "t-test for accuracy not greater than 0.5: p=0.0060\n",
      "t-test for accuracy not greater than 0.5: p=0.0007\n",
      "----------------\n",
      "One-way ANOVA test: p=0.0028\n",
      "p-value annotation legend:\n",
      "      ns: p <= 1.00e+00\n",
      "       *: 1.00e-02 < p <= 5.00e-02\n",
      "      **: 1.00e-03 < p <= 1.00e-02\n",
      "     ***: p <= 1.00e-03\n",
      "\n",
      "Enriched vs. Dissimilar: Custom statistical test, P_val:7.955e-01\n",
      "Dissimilar vs. Similar: Custom statistical test, P_val:6.581e-03\n",
      "Enriched vs. Similar: Custom statistical test, P_val:1.371e-02\n"
     ]
    },
    {
     "data": {
      "image/png": "[encoded data removed]",
      "text/plain": [
       "<Figure size 280x440 with 1 Axes>"
      ]
     },
     "metadata": {},
     "output_type": "display_data"
    }
   ],
   "source": [
    "def plot_summary(excelfile, exps=['Enriched','Dissimilar','Similar'],\n",
    "                 colors=['tab:red','tab:blue','tab:green']):\n",
    "\n",
    "    fsize = plt.rcParams['font.size']\n",
    "    lwidth = plt.rcParams['axes.linewidth']\n",
    "    \n",
    "    A = pd.read_excel(excelfile, sheet_name='Cluster')\n",
    "    accuracy = [A['Fraction'][A['Context']==exp] for exp in exps]\n",
    "\n",
    "    width = 0.65  # Bar width\n",
    "    ypos = 0.15  # y position to place the statistical annotations\n",
    "    fig, ax = plt.subplots(figsize=(2.8,4.4))\n",
    "    ax.axhline(0.5, ls='--', c='gray', zorder=-1)\n",
    "\n",
    "    for p, exp in enumerate(exps):\n",
    "        height = np.mean(accuracy[p])\n",
    "        yerr = stats.sem(accuracy[p])\n",
    "        ax.bar(p, height, yerr=yerr, width=width, color='none', linewidth=lwidth, \n",
    "               edgecolor=colors[p], ecolor=colors[p], capsize=4,\n",
    "               error_kw=dict(elinewidth=lwidth, capthick=lwidth))\n",
    "        pval = stats.ttest_1samp(accuracy[p], 0.5, alternative='greater')[1]\n",
    "        print(f't-test for accuracy not greater than 0.5: p={pval:.4f}')\n",
    "        if pval < 0.001:\n",
    "            ax.text(p, ypos, '***', ha='center')\n",
    "        elif pval < 0.01:\n",
    "            ax.text(p, ypos, '**', ha='center')\n",
    "        elif pval < 0.05:\n",
    "            ax.text(p, ypos, '*', ha='center')\n",
    "        else:\n",
    "            ax.text(p, ypos, 'ns', ha='center')\n",
    "    \n",
    "    sns.stripplot(data=A, x='Context', y='Fraction', hue='Context', palette=colors, ax=ax, size=6, jitter=0.1)\n",
    "    \n",
    "    ## Multiple comparison\n",
    "    print('-'*16)\n",
    "    print('One-way ANOVA test: p=%.4f' % stats.f_oneway(*accuracy)[1])\n",
    "    pairs, pvalues = [], []\n",
    "    post_hocs = stats.tukey_hsd(*accuracy)\n",
    "    for u, v in zip([0,0,1],[1,2,2]):\n",
    "        pairs.append([exps[u], exps[v]])\n",
    "        pvalues.append(post_hocs.pvalue[u,v])\n",
    "    \n",
    "    pformat = {'pvalue_thresholds':[[1e-3,'***'],[1e-2,'**'],[0.05,'*'],[1,'ns']], 'fontsize':fsize}\n",
    "    annot = Annotator(ax, pairs, data=A, x='Context', y='Fraction')\n",
    "    annot.configure(test=None, loc='outside', line_width=lwidth, line_height=0., pvalue_format=pformat)\n",
    "    annot.set_pvalues(pvalues)\n",
    "    annot.annotate()\n",
    "    \n",
    "    return fig, ax\n",
    "\n",
    "fig, ax = plot_summary(excelfile, exps=exps, colors=colors)\n",
    "ax.set(ylabel='Clustering accuracy', xlabel='', xticks=range(len(exps)))\n",
    "ax.set_xticklabels(exps, rotation=30)\n",
    "ax.get_legend().remove()\n",
    "fig.tight_layout()\n",
    "# fig.savefig('Cluster accuracy.svg')"
   ]
  }
 ],
 "metadata": {
  "kernelspec": {
   "display_name": "Python 3 (ipykernel)",
   "language": "python",
   "name": "python3"
  },
  "language_info": {
   "codemirror_mode": {
    "name": "ipython",
    "version": 3
   },
   "file_extension": ".py",
   "mimetype": "text/x-python",
   "name": "python",
   "nbconvert_exporter": "python",
   "pygments_lexer": "ipython3",
   "version": "3.8.8"
  }
 },
 "nbformat": 4,
 "nbformat_minor": 5
}
